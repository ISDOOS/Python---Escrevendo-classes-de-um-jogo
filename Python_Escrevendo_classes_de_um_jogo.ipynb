{
  "nbformat": 4,
  "nbformat_minor": 0,
  "metadata": {
    "colab": {
      "provenance": []
    },
    "kernelspec": {
      "name": "python3",
      "display_name": "Python 3"
    },
    "language_info": {
      "name": "python"
    }
  },
  "cells": [
    {
      "cell_type": "code",
      "execution_count": null,
      "metadata": {
        "id": "2eFeezJ59U6b"
      },
      "outputs": [],
      "source": [
        "class Heroi:\n",
        "    def __init__(self, nome, idade, tipo):\n",
        "        self.nome = nome\n",
        "        self.idade = idade\n",
        "        self.tipo = tipo\n",
        "\n",
        "    def atacar(self):\n",
        "        if self.tipo == \"mago\":\n",
        "            ataque = \"usou magia\"\n",
        "        elif self.tipo == \"guerreiro\":\n",
        "            ataque = \"usou espada\"\n",
        "        elif self.tipo == \"monge\":\n",
        "            ataque = \"usou artes marciais\"\n",
        "        elif self.tipo == \"ninja\":\n",
        "            ataque = \"usou shuriken\"\n",
        "        else:\n",
        "            ataque = \"usou um ataque desconhecido\"\n",
        "\n",
        "        mensagem = f\"O {self.tipo} atacou usando {ataque}\"\n",
        "        return mensagem\n",
        "\n",
        "# Criação de instâncias de heróis\n",
        "mago = Heroi(\"Gandalf\", 150, \"mago\")\n",
        "guerreiro = Heroi(\"Aragorn\", 35, \"guerreiro\")\n",
        "\n",
        "# Chamando o método atacar para cada herói\n",
        "print(mago.atacar())\n",
        "print(guerreiro.atacar())\n"
      ]
    }
  ]
}